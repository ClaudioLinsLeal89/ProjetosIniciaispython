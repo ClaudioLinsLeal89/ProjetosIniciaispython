{
 "cells": [
  {
   "cell_type": "markdown",
   "metadata": {},
   "source": [
    "## Envio de E-mail Outlook"
   ]
  },
  {
   "cell_type": "code",
   "execution_count": 2,
   "metadata": {},
   "outputs": [
    {
     "name": "stdout",
     "output_type": "stream",
     "text": [
      "Email Enviado\n"
     ]
    }
   ],
   "source": [
    "import win32com.client as win32\n",
    "\n",
    "# criar a integração com o outlook\n",
    "outlook = win32.Dispatch('outlook.application')\n",
    "\n",
    "# criar um email\n",
    "email = outlook.CreateItem(0)\n",
    "\n",
    "#faturamento = 1500\n",
    "#qtde_produtos = 10\n",
    "#ticket_medio = faturamento / qtde_produtos\n",
    "\n",
    "# configurar as informações do seu e-mail\n",
    "email.To = \"contasapagar@norteenergiasa.com.br;CleitonJunior@norteenergiasa.com.br;Claudioleal@norteenergiasa.com.br\"\n",
    "email.Subject = \"E-mail automático do Python\"\n",
    "email.HTMLBody = f\"\"\"\n",
    "\n",
    "<p>Olá Carga de controle de aplicações carregada no SQL</p>\n",
    "\"\"\"\n",
    "\n",
    "# anexo = \"C://Users/joaop/Downloads/arquivo.xlsx\"\n",
    "# email.Attachments.Add(anexo)\n",
    "\n",
    "email.Send()\n",
    "print(\"Email Enviado\")\n"
   ]
  },
  {
   "cell_type": "code",
   "execution_count": null,
   "metadata": {},
   "outputs": [],
   "source": []
  }
 ],
 "metadata": {
  "kernelspec": {
   "display_name": "Python 3",
   "language": "python",
   "name": "python3"
  },
  "language_info": {
   "codemirror_mode": {
    "name": "ipython",
    "version": 3
   },
   "file_extension": ".py",
   "mimetype": "text/x-python",
   "name": "python",
   "nbconvert_exporter": "python",
   "pygments_lexer": "ipython3",
   "version": "3.11.5"
  }
 },
 "nbformat": 4,
 "nbformat_minor": 2
}
