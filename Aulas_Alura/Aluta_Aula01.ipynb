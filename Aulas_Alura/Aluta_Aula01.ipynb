{
 "cells": [
  {
   "cell_type": "code",
   "execution_count": 1,
   "metadata": {},
   "outputs": [
    {
     "name": "stdout",
     "output_type": "stream",
     "text": [
      "Olá mundo!\n"
     ]
    }
   ],
   "source": [
    "print('Olá mundo!')"
   ]
  },
  {
   "cell_type": "code",
   "execution_count": 2,
   "metadata": {},
   "outputs": [
    {
     "name": "stdout",
     "output_type": "stream",
     "text": [
      "Claudio,25\n"
     ]
    }
   ],
   "source": [
    "print('Claudio,25')"
   ]
  },
  {
   "cell_type": "code",
   "execution_count": 3,
   "metadata": {},
   "outputs": [
    {
     "name": "stdout",
     "output_type": "stream",
     "text": [
      "Esola de dados Alura!\n",
      "Nome: Claudio\n",
      "Sobrenome: Da Silva\n"
     ]
    }
   ],
   "source": [
    "print('Esola de dados Alura!')\n",
    "print('Nome: Claudio')\n",
    "print('Sobrenome: Da Silva')"
   ]
  },
  {
   "cell_type": "code",
   "execution_count": 4,
   "metadata": {},
   "outputs": [
    {
     "name": "stdout",
     "output_type": "stream",
     "text": [
      "C\n",
      "L\n",
      "A\n",
      "U\n",
      "D\n",
      "I\n",
      "O\n"
     ]
    }
   ],
   "source": [
    "print('C')\n",
    "print('L')\n",
    "print('A')\n",
    "print('U')\n",
    "print('D')\n",
    "print('I')\n",
    "print('O')\n",
    "\n"
   ]
  }
 ],
 "metadata": {
  "kernelspec": {
   "display_name": "Python 3",
   "language": "python",
   "name": "python3"
  },
  "language_info": {
   "codemirror_mode": {
    "name": "ipython",
    "version": 3
   },
   "file_extension": ".py",
   "mimetype": "text/x-python",
   "name": "python",
   "nbconvert_exporter": "python",
   "pygments_lexer": "ipython3",
   "version": "3.11.5"
  }
 },
 "nbformat": 4,
 "nbformat_minor": 2
}
