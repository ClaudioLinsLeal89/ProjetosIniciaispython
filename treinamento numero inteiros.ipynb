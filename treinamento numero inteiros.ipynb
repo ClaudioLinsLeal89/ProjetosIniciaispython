{
 "cells": [
  {
   "cell_type": "code",
   "execution_count": 5,
   "id": "ed665605",
   "metadata": {},
   "outputs": [
    {
     "name": "stdout",
     "output_type": "stream",
     "text": [
      "digite um valor:2\n",
      "<class 'int'>\n"
     ]
    }
   ],
   "source": [
    "n1 = int(input('digite um valor:'))\n",
    "print(type(n1))"
   ]
  },
  {
   "cell_type": "code",
   "execution_count": 7,
   "id": "886473d7",
   "metadata": {},
   "outputs": [
    {
     "name": "stdout",
     "output_type": "stream",
     "text": [
      "digite um valor:5\n",
      "digite outro: 3\n",
      "A soma vale 53\n"
     ]
    }
   ],
   "source": [
    "## Concatenação \n",
    "\n",
    "n1 = (input('digite um valor:'))\n",
    "n2 = (input('digite outro: '))\n",
    "s = n1 + n2\n",
    "print('A soma vale',s)"
   ]
  },
  {
   "cell_type": "code",
   "execution_count": null,
   "id": "e18eeb13",
   "metadata": {},
   "outputs": [],
   "source": [
    "n1 =  int((input('digite um valor:'))\n",
    "n2 = int((input('digite outro: '))\n",
    "s = n1 + n2\n",
    "print('A soma vale',s)"
   ]
  }
 ],
 "metadata": {
  "kernelspec": {
   "display_name": "Python 3 (ipykernel)",
   "language": "python",
   "name": "python3"
  },
  "language_info": {
   "codemirror_mode": {
    "name": "ipython",
    "version": 3
   },
   "file_extension": ".py",
   "mimetype": "text/x-python",
   "name": "python",
   "nbconvert_exporter": "python",
   "pygments_lexer": "ipython3",
   "version": "3.9.13"
  }
 },
 "nbformat": 4,
 "nbformat_minor": 5
}
