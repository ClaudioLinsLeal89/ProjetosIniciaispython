{
 "cells": [
  {
   "cell_type": "code",
   "execution_count": null,
   "metadata": {},
   "outputs": [],
   "source": [
    "import openai\n",
    "import openpyxl\n",
    "\n",
    "# Configurar sua chave de API da OpenAI\n",
    "openai.api_key = 'sua_chave_de_api_da_openai'\n",
    "\n",
    "# Carregar o arquivo Excel\n",
    "workbook = openpyxl.load_workbook('seuarquivo.xlsx')\n",
    "sheet = workbook.active\n",
    "\n",
    "# Obter a entrada do usuário\n",
    "usuario_input = input(\"Você: \")\n",
    "\n",
    "# Enviar a entrada do usuário para o ChatGPT\n",
    "response = openai.Completion.create(\n",
    "    engine=\"text-davinci-003\",\n",
    "    prompt=f\"Usuário: {usuario_input}\\nGPT-3.5: \",\n",
    "    max_tokens=150\n",
    ")\n",
    "\n",
    "# Obter a resposta do ChatGPT\n",
    "resposta_gpt = response.choices[0].text.strip()\n",
    "\n",
    "# Escrever a resposta do ChatGPT no Excel\n",
    "linha = sheet.max_row + 1\n",
    "sheet.cell(row=linha, column=1, value=f\"Usuário: {usuario_input}\")\n",
    "sheet.cell(row=linha, column=2, value=f\"GPT-3.5: {resposta_gpt}\")\n",
    "\n",
    "# Salvar as alterações no arquivo Excel\n",
    "workbook.save('seuarquivo.xlsx')\n",
    "\n",
    "# Mostrar a resposta do ChatGPT\n",
    "print(\"GPT-3.5:\", resposta_gpt)\n"
   ]
  }
 ],
 "metadata": {
  "language_info": {
   "name": "python"
  }
 },
 "nbformat": 4,
 "nbformat_minor": 2
}
