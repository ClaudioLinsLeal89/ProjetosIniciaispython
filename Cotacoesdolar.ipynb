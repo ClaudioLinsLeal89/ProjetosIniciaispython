{
 "cells": [
  {
   "cell_type": "code",
   "execution_count": 3,
   "id": "6d90dc92",
   "metadata": {},
   "outputs": [
    {
     "name": "stdout",
     "output_type": "stream",
     "text": [
      "5.038\n"
     ]
    }
   ],
   "source": [
    "import pandas as pd\n",
    "import requests\n",
    "import json\n",
    "\n",
    "cotacoes = requests.get('https://economia.awesomeapi.com.br/last/USD-BRL,EUR-BRL,BTC-BRL')\n",
    "cotacoes = cotacoes.json()\n",
    "cotacao_dolar = cotacoes['USDBRL'][\"bid\"]\n",
    "\n",
    "#print(cotacoes)\n",
    "print(cotacao_dolar)"
   ]
  },
  {
   "cell_type": "code",
   "execution_count": 5,
   "id": "554d6898",
   "metadata": {},
   "outputs": [
    {
     "ename": "AttributeError",
     "evalue": "'dict' object has no attribute 'head'",
     "output_type": "error",
     "traceback": [
      "\u001b[1;31m---------------------------------------------------------------------------\u001b[0m",
      "\u001b[1;31mAttributeError\u001b[0m                            Traceback (most recent call last)",
      "\u001b[1;32mc:\\Users\\claudio.leal\\Downloads\\GuitHub\\ClaudioLinsLeal89\\ProjetosIniciaispython\\Cotacoesdolar.ipynb Cell 2\u001b[0m line \u001b[0;36m1\n\u001b[1;32m----> <a href='vscode-notebook-cell:/c%3A/Users/claudio.leal/Downloads/GuitHub/ClaudioLinsLeal89/ProjetosIniciaispython/Cotacoesdolar.ipynb#W1sZmlsZQ%3D%3D?line=0'>1</a>\u001b[0m cotacoes\u001b[39m.\u001b[39;49mhead()\n",
      "\u001b[1;31mAttributeError\u001b[0m: 'dict' object has no attribute 'head'"
     ]
    }
   ],
   "source": [
    "cotacoes.head()"
   ]
  },
  {
   "cell_type": "code",
   "execution_count": null,
   "id": "65272cf8",
   "metadata": {},
   "outputs": [],
   "source": []
  }
 ],
 "metadata": {
  "kernelspec": {
   "display_name": "Python 3 (ipykernel)",
   "language": "python",
   "name": "python3"
  },
  "language_info": {
   "codemirror_mode": {
    "name": "ipython",
    "version": 3
   },
   "file_extension": ".py",
   "mimetype": "text/x-python",
   "name": "python",
   "nbconvert_exporter": "python",
   "pygments_lexer": "ipython3",
   "version": "3.11.5"
  }
 },
 "nbformat": 4,
 "nbformat_minor": 5
}
