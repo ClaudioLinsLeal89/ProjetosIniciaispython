{
 "cells": [
  {
   "cell_type": "code",
   "execution_count": 1,
   "metadata": {},
   "outputs": [],
   "source": [
    "import pandas as pd\n",
    "import numpy as np\n",
    "import re\n",
    "import pyodbc\n",
    "from sqlalchemy import create_engine\n",
    "import urllib\n",
    "import datetime as dt\n",
    "from pathlib3x import Path\n",
    "import easygui"
   ]
  },
  {
   "cell_type": "code",
   "execution_count": 2,
   "metadata": {},
   "outputs": [],
   "source": [
    "\n",
    "def selecionarArquivo(*pasta):\n",
    "    \"\"\"\n",
    "    Selecionar um arquivo para servir de carga no SAP\n",
    "    Returns:\n",
    "        String: retorna um caminho em forma de string (texto)\n",
    "    \"\"\"\n",
    "    global local_arquivo\n",
    "    local_arquivo = ''\n",
    "\n",
    "    if not pasta:\n",
    "        arquivo = easygui.fileopenbox()\n",
    "        local_arquivo = Path(arquivo)   \n",
    "    else:\n",
    "        print(f\"o arquivo da pasta: {pasta[0]}\")\n",
    "        local_arquivo = pasta[0]\n",
    "        \n",
    "    return local_arquivo\n",
    "\n",
    "###### Selecionar a pasta do arquivo do mês ########\n",
    "\n",
    "localArquivo = selecionarArquivo()"
   ]
  },
  {
   "cell_type": "code",
   "execution_count": 3,
   "metadata": {},
   "outputs": [
    {
     "data": {
      "text/plain": [
       "WindowsPath('C:/Users/leandro.alves/Norte Energia/orcamento - General/4 - Documentos_BI/BI_Tesouraria/BASE_RECEITA_FIN/Fundos_Aplicacao/SQL_base_Aplicacao_18-09-2023.xlsx')"
      ]
     },
     "execution_count": 3,
     "metadata": {},
     "output_type": "execute_result"
    }
   ],
   "source": [
    "localArquivo"
   ]
  },
  {
   "cell_type": "code",
   "execution_count": null,
   "metadata": {},
   "outputs": [],
   "source": [
    "\"\"\"\n",
    "Banco de dados: \n",
    "\n",
    "[DW_SFCRI].[TESOURARIA].[APLICACAO_FUNDOS]\n",
    "[DW_SFCRI].[TESOURARIA].[TITULOS]\n",
    "[DW_SFCRI].[TESOURARIA].[BANCOS]\n",
    "\n",
    "\n",
    "sheets: \n",
    "\n",
    "TITULOS, APLICACAO_FUNDOS, BANCOS\n",
    "\n",
    "\"\"\"\n"
   ]
  },
  {
   "cell_type": "code",
   "execution_count": 3,
   "metadata": {},
   "outputs": [],
   "source": [
    "df_bancos = pd.read_excel(localArquivo, sheet_name='BANCOS')\n",
    "df_titulos = pd.read_excel(localArquivo, sheet_name='TITULOS')\n",
    "df_aplicacao = pd.read_excel(localArquivo, sheet_name='APLICACAO_FUNDOS')"
   ]
  },
  {
   "cell_type": "code",
   "execution_count": null,
   "metadata": {},
   "outputs": [],
   "source": [
    "df_titulos['LIQUIDEZ'] = df_titulos['LIQUIDEZ'].astype(str)\n",
    "df_titulos"
   ]
  },
  {
   "cell_type": "code",
   "execution_count": null,
   "metadata": {},
   "outputs": [],
   "source": [
    "df_bancos"
   ]
  },
  {
   "cell_type": "code",
   "execution_count": null,
   "metadata": {},
   "outputs": [],
   "source": [
    "df_aplicacao"
   ]
  },
  {
   "cell_type": "markdown",
   "metadata": {},
   "source": [
    "#### carga SQL"
   ]
  },
  {
   "cell_type": "code",
   "execution_count": 5,
   "metadata": {},
   "outputs": [],
   "source": [
    "conexao = pyodbc.connect('Driver={SQL Server};'\n",
    "                      'Server=CURIAIA1-10-3\\FINANCEIRO_PRD;'\n",
    "                      'Database=DW_SFCRI;'\n",
    "                      'Trusted_Connection=yes;')\n",
    "\n",
    "cursor = conexao.cursor() # Cria o cursor para manipular o banco de dados\n",
    "truncate_APLICACAO_FUNDOS = \"\"\" TRUNCATE TABLE [DW_SFCRI].[TESOURARIA].[APLICACAO_FUNDOS] \"\"\"\n",
    "# truncate_APLICACAO_FUNDOS = \"\"\" TRUNCATE TABLE [DW_SFCRI].[TESOURARIA].[APLICACAO_FUNDOS_2] \"\"\"\n",
    "truncate_BANCOS = \"\"\" TRUNCATE TABLE [DW_SFCRI].[TESOURARIA].[BANCOS] \"\"\"\n",
    "truncate_TITULOS = \"\"\" TRUNCATE TABLE [DW_SFCRI].[TESOURARIA].[TITULOS] \"\"\""
   ]
  },
  {
   "cell_type": "code",
   "execution_count": 6,
   "metadata": {},
   "outputs": [],
   "source": [
    "cursor.execute(truncate_APLICACAO_FUNDOS) # Executa a Limpeza dos dados \n",
    "cursor.execute(truncate_BANCOS) # Executa a Limpeza dos dados \n",
    "cursor.execute(truncate_TITULOS) # Executa a Limpeza dos dados \n",
    "cursor.commit() # Confirma"
   ]
  },
  {
   "cell_type": "code",
   "execution_count": 7,
   "metadata": {},
   "outputs": [],
   "source": [
    "pst = urllib.parse.quote_plus('Driver={SQL Server};'\n",
    "                                'Server=CURIAIA1-10-3\\FINANCEIRO_PRD;'\n",
    "                                'Database=DW_SFCRI;'\n",
    "                                'Trusted_Connection=yes;')\n",
    "engine = create_engine(f'mssql+pyodbc:///?odbc_connect={pst}')"
   ]
  },
  {
   "cell_type": "code",
   "execution_count": 8,
   "metadata": {},
   "outputs": [
    {
     "name": "stdout",
     "output_type": "stream",
     "text": [
      "Começando a carga de aplicaçãp\n",
      "Fim da carga de aplicaçãp\n"
     ]
    }
   ],
   "source": [
    "df_titulos.to_sql('TITULOS', con=engine, if_exists='append', index=False, schema=\"TESOURARIA\")\n",
    "df_bancos.to_sql('BANCOS', con=engine, if_exists='append', index=False, schema=\"TESOURARIA\")\n",
    "print('Começando a carga de aplicação')\n",
    "# df_aplicacao.to_sql('APLICACAO_FUNDOS_2', con=engine, if_exists='replace', index=False, schema=\"TESOURARIA\")\n",
    "df_aplicacao.to_sql('APLICACAO_FUNDOS', con=engine, if_exists='replace', index=False, schema=\"TESOURARIA\")\n",
    "print('Fim da carga de aplicação')\n"
   ]
  },
  {
   "cell_type": "markdown",
   "metadata": {},
   "source": [
    "#### Testes tipos"
   ]
  },
  {
   "cell_type": "code",
   "execution_count": 6,
   "metadata": {},
   "outputs": [],
   "source": [
    "# Suponha que 'df_aplicacao' seja o seu DataFrame e 'VALOR_APLICACAO' seja a coluna que deseja limpar\n",
    "\n",
    "# df_aplicacao['VALOR_APLICACAO'] = df_aplicacao['VALOR_APLICACAO'].astype(str)\n",
    "# df_aplicacao['VALOR_APLICACAO'] = df_aplicacao['VALOR_APLICACAO'].str.strip()"
   ]
  },
  {
   "cell_type": "code",
   "execution_count": 7,
   "metadata": {},
   "outputs": [],
   "source": [
    "# Suponha que 'df_aplicacao' seja o seu DataFrame e 'VALOR_APLICACAO' seja a coluna que você deseja converter\n",
    "# df_aplicacao['VALOR_APLICACAO'] = df_aplicacao['VALOR_APLICACAO'].apply(lambda x: float(x) if x.strip() else 0.0)\n"
   ]
  },
  {
   "cell_type": "code",
   "execution_count": null,
   "metadata": {},
   "outputs": [],
   "source": [
    "\n",
    "# Suponha que 'df_aplicacao' seja o seu DataFrame e 'VALOR_APLICACAO' seja a coluna que você deseja converter\n",
    "# df_aplicacao['VALOR_APLICACAO'] = df_aplicacao['VALOR_APLICACAO'].apply(lambda x: float(x.strip()) if isinstance(x, str) and x.strip() else 0.0)\n"
   ]
  },
  {
   "cell_type": "code",
   "execution_count": null,
   "metadata": {},
   "outputs": [],
   "source": [
    "# df_aplicacao['VALOR_APLICACAO'] = df_aplicacao['VALOR_APLICACAO'].astype(float)"
   ]
  }
 ],
 "metadata": {
  "kernelspec": {
   "display_name": "Python 3",
   "language": "python",
   "name": "python3"
  },
  "language_info": {
   "codemirror_mode": {
    "name": "ipython",
    "version": 3
   },
   "file_extension": ".py",
   "mimetype": "text/x-python",
   "name": "python",
   "nbconvert_exporter": "python",
   "pygments_lexer": "ipython3",
   "version": "3.10.8"
  },
  "orig_nbformat": 4
 },
 "nbformat": 4,
 "nbformat_minor": 2
}
