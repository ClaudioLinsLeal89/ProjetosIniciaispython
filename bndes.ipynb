{
 "cells": [
  {
   "cell_type": "code",
   "execution_count": 2,
   "id": "9174adea",
   "metadata": {},
   "outputs": [
    {
     "ename": "AttributeError",
     "evalue": "'WebDriver' object has no attribute 'find_element_by_xpath'",
     "output_type": "error",
     "traceback": [
      "\u001b[1;31m---------------------------------------------------------------------------\u001b[0m",
      "\u001b[1;31mAttributeError\u001b[0m                            Traceback (most recent call last)",
      "\u001b[1;32mc:\\Users\\claudio.leal\\Downloads\\GuitHub\\ProjetosIniciaispython\\bndes.ipynb Cell 1\u001b[0m line \u001b[0;36m4\n\u001b[0;32m      <a href='vscode-notebook-cell:/c%3A/Users/claudio.leal/Downloads/GuitHub/ProjetosIniciaispython/bndes.ipynb#W0sZmlsZQ%3D%3D?line=1'>2</a>\u001b[0m navegador \u001b[39m=\u001b[39m webdriver\u001b[39m.\u001b[39mChrome()\n\u001b[0;32m      <a href='vscode-notebook-cell:/c%3A/Users/claudio.leal/Downloads/GuitHub/ProjetosIniciaispython/bndes.ipynb#W0sZmlsZQ%3D%3D?line=2'>3</a>\u001b[0m navegador\u001b[39m.\u001b[39mget(\u001b[39m\"\u001b[39m\u001b[39mhttps://portal.bndes.gov.br/\u001b[39m\u001b[39m\"\u001b[39m)\n\u001b[1;32m----> <a href='vscode-notebook-cell:/c%3A/Users/claudio.leal/Downloads/GuitHub/ProjetosIniciaispython/bndes.ipynb#W0sZmlsZQ%3D%3D?line=3'>4</a>\u001b[0m navegador\u001b[39m.\u001b[39;49mfind_element_by_xpath(\u001b[39m'\u001b[39m\u001b[39m//*[@id=\u001b[39m\u001b[39m\"\u001b[39m\u001b[39mtxt.CNPJ-ux4\u001b[39m\u001b[39m\"\u001b[39m\u001b[39m]\u001b[39m\u001b[39m'\u001b[39m)\u001b[39m.\u001b[39msend_keys(\u001b[39m\"\u001b[39m\u001b[39m12300288000107\u001b[39m\u001b[39m\"\u001b[39m)\n",
      "\u001b[1;31mAttributeError\u001b[0m: 'WebDriver' object has no attribute 'find_element_by_xpath'"
     ]
    }
   ],
   "source": [
    "from selenium import webdriver\n",
    "navegador = webdriver.Chrome()\n",
    "navegador.get(\"https://portal.bndes.gov.br/\")\n",
    "navegador.find_element_by_xpath('//*[@id=\"txt.CNPJ-ux4\"]').send_keys(\"12300288000107\")\n"
   ]
  },
  {
   "cell_type": "code",
   "execution_count": null,
   "id": "5bcdc956",
   "metadata": {},
   "outputs": [],
   "source": []
  },
  {
   "cell_type": "code",
   "execution_count": null,
   "id": "cd593f0c",
   "metadata": {},
   "outputs": [],
   "source": []
  }
 ],
 "metadata": {
  "kernelspec": {
   "display_name": "Python 3 (ipykernel)",
   "language": "python",
   "name": "python3"
  },
  "language_info": {
   "codemirror_mode": {
    "name": "ipython",
    "version": 3
   },
   "file_extension": ".py",
   "mimetype": "text/x-python",
   "name": "python",
   "nbconvert_exporter": "python",
   "pygments_lexer": "ipython3",
   "version": "3.11.5"
  }
 },
 "nbformat": 4,
 "nbformat_minor": 5
}
